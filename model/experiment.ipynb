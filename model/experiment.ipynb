{
 "cells": [
  {
   "cell_type": "markdown",
   "metadata": {},
   "source": [
    "# 졸업 논문\n",
    "\n",
    "## DSAN: Denoising Self-Attention Network\n",
    "\n",
    "- 추가 실험 jupyter 코드"
   ]
  },
  {
   "cell_type": "markdown",
   "metadata": {},
   "source": [
    "### colab setting"
   ]
  },
  {
   "cell_type": "code",
   "execution_count": null,
   "metadata": {},
   "outputs": [],
   "source": [
    "# import os\n",
    "# from google.colab import drive\n",
    "\n",
    "# drive.mount('/drive/')\n",
    "\n",
    "# experiment_dir = '/drive/MyDrive/experiments'\n",
    "# os.chdir(experiment_dir)"
   ]
  },
  {
   "cell_type": "code",
   "execution_count": 1,
   "metadata": {},
   "outputs": [
    {
     "name": "stdout",
     "output_type": "stream",
     "text": [
      "zsh:1: command not found: nvidia-smi\r\n"
     ]
    }
   ],
   "source": [
    "!nvidia-smi"
   ]
  },
  {
   "cell_type": "code",
   "execution_count": 5,
   "metadata": {},
   "outputs": [
    {
     "name": "stdout",
     "output_type": "stream",
     "text": [
      "Collecting missingpy\n",
      "  Using cached missingpy-0.2.0-py3-none-any.whl (49 kB)\n",
      "Installing collected packages: missingpy\n",
      "Successfully installed missingpy-0.2.0\n"
     ]
    }
   ],
   "source": [
    "!pip install missingpy"
   ]
  },
  {
   "cell_type": "code",
   "execution_count": 6,
   "metadata": {},
   "outputs": [],
   "source": [
    "import sys\n",
    "import numpy as np\n",
    "import pandas as pd\n",
    "\n",
    "from missingpy import MissForest\n",
    "from dsan import Imputer as DSANImputer\n",
    "from utils import *\n",
    "\n",
    "import warnings\n",
    "warnings.filterwarnings('ignore')"
   ]
  },
  {
   "cell_type": "code",
   "execution_count": 3,
   "metadata": {},
   "outputs": [],
   "source": [
    "seed = 128\n",
    "set_seed(seed)"
   ]
  },
  {
   "cell_type": "code",
   "execution_count": 17,
   "metadata": {},
   "outputs": [],
   "source": [
    "def get_imputer(config):\n",
    "    \n",
    "    model = config['model']\n",
    "    \n",
    "    if model == 'DSAN':\n",
    "        imputer = DSANImputer(rep_dim=config['rep_dim'],\n",
    "                num_heads=config['num_heads'],\n",
    "                n_hidden=config['n_hidden'],\n",
    "                lr=config['lr'],\n",
    "                weight_decay=config['weight_decay'],\n",
    "                batch_size=config['batch_size'],\n",
    "                epochs=config['epochs'],\n",
    "                noise_percent=config['noise_percent'],\n",
    "                stopped_epoch=config['stopped_epoch'])\n",
    "    \n",
    "    elif model == 'MissForest':\n",
    "        imputer = MissForest(random_state=0)\n",
    "        \n",
    "    elif model == 'Statistics':\n",
    "        imputer = None\n",
    "        \n",
    "    return imputer"
   ]
  },
  {
   "cell_type": "code",
   "execution_count": 19,
   "metadata": {},
   "outputs": [],
   "source": [
    "def experiment_run(data_name, config, test=False):\n",
    "    \n",
    "    dataset = get_data(data_name)\n",
    "    if test:\n",
    "        dataset = (dataset[0][:1000], dataset[1], dataset[2], dataset[3])\n",
    "\n",
    "    k = 5\n",
    "    percent_missing_lst = [ p for p in range(5, 25, 5)]    \n",
    "    X_origin, n_col, num_vars, cat_vars = dataset\n",
    "    X_origin = category_mapping(X_origin, cat_vars)\n",
    "    \n",
    "    print(\"Data Size: {}\".format(X_origin.shape))\n",
    "\n",
    "    n_sample = X_origin.shape[0]\n",
    "    idx_lst = list(range(n_sample))\n",
    "    np.random.shuffle(idx_lst)\n",
    "\n",
    "    # k-fold validation\n",
    "    n_valid = len(idx_lst) // k\n",
    "   \n",
    "    results = {}\n",
    "    for percent_missing in percent_missing_lst:\n",
    "        result = []\n",
    "        for it, n in enumerate(range(0, n_sample, n_valid)):\n",
    "            valid_idx = idx_lst[n: n+n_valid]\n",
    "\n",
    "            if len(valid_idx) < n_valid:\n",
    "                break\n",
    "\n",
    "            train_idx = list(set(idx_lst) - set(valid_idx))\n",
    "            \n",
    "            X = X_origin[train_idx, :]\n",
    "            X_test = X_origin[valid_idx, :] # for prediction aucroc metric\n",
    "            \n",
    "            # make incomplete data\n",
    "            missing_mask = generate_missing_mask(X, percent_missing=percent_missing)\n",
    "            X_incomplete = X.copy()\n",
    "            X_incomplete[missing_mask] = np.nan\n",
    "\n",
    "            imputer = get_imputer(config)\n",
    "            X_imputed = imputer.fit_transform(X_incomplete, cat_vars=cat_vars)\n",
    "            \n",
    "            X_res = X.copy()\n",
    "            X_res[missing_mask] = X_imputed[missing_mask]\n",
    "            \n",
    "            metric = cal_metric_numpy(X_res, X, missing_mask, num_vars, cat_vars)\n",
    "            score = ex_classify(data_name=data_name,\n",
    "                    train_array=X_res,\n",
    "                    test_array=X_test,\n",
    "                    num_vars=num_vars,\n",
    "                    cat_vars=cat_vars)\n",
    "            \n",
    "            metric['clf_aucroc'] = round(score, 4)\n",
    "            result.append(metric)\n",
    "            print(metric)\n",
    "    \n",
    "        avg_result = dict()\n",
    "        for key in result[0].keys():\n",
    "            value = np.mean([m[key] for m in result])\n",
    "            avg_result[key] = value \n",
    "            print(key, value, percent_missing)\n",
    "\n",
    "        results[percent_missing] = avg_result\n",
    "\n",
    "    return results"
   ]
  },
  {
   "cell_type": "code",
   "execution_count": 26,
   "metadata": {},
   "outputs": [],
   "source": [
    "config = {\n",
    "    'model': 'DSAN',\n",
    "    'rep_dim': 32,\n",
    "    'num_heads': 8,\n",
    "    'n_hidden': 2,\n",
    "    'lr': 3e-3,\n",
    "    'weight_decay': 1e-5,\n",
    "    'batch_size': 128,\n",
    "    'epochs': 10,\n",
    "    'noise_percent': 10,\n",
    "    'stopped_epoch': 10\n",
    "}"
   ]
  },
  {
   "cell_type": "code",
   "execution_count": 40,
   "metadata": {},
   "outputs": [],
   "source": [
    "import missingpy"
   ]
  },
  {
   "cell_type": "code",
   "execution_count": 43,
   "metadata": {},
   "outputs": [],
   "source": [
    "from missingpy import MissForest"
   ]
  },
  {
   "cell_type": "code",
   "execution_count": 38,
   "metadata": {},
   "outputs": [
    {
     "name": "stderr",
     "output_type": "stream",
     "text": [
      "\r",
      "  0%|          | 0/10 [00:00<?, ?it/s]"
     ]
    },
    {
     "name": "stdout",
     "output_type": "stream",
     "text": [
      "Data Size: (1000, 15)\n"
     ]
    },
    {
     "name": "stderr",
     "output_type": "stream",
     "text": [
      "100%|██████████| 10/10 [00:05<00:00,  1.75it/s]\n",
      "  0%|          | 0/10 [00:00<?, ?it/s]"
     ]
    },
    {
     "name": "stdout",
     "output_type": "stream",
     "text": [
      "{'nrmse': 0.4611, 'col_1_error_rate': 0.3659, 'col_3_error_rate': 0.2778, 'col_5_error_rate': 0.16, 'col_6_error_rate': 0.6857, 'col_7_error_rate': 0.1633, 'col_8_error_rate': 0.1622, 'col_9_error_rate': 0.1556, 'col_13_error_rate': 0.1304, 'col_14_error_rate': 0.15, 'total_error_rate': 0.2375, 'clf_aucroc': 0.8678}\n"
     ]
    },
    {
     "name": "stderr",
     "output_type": "stream",
     "text": [
      "100%|██████████| 10/10 [00:05<00:00,  1.76it/s]\n",
      "  0%|          | 0/10 [00:00<?, ?it/s]"
     ]
    },
    {
     "name": "stdout",
     "output_type": "stream",
     "text": [
      "{'nrmse': 0.3537, 'col_1_error_rate': 0.2895, 'col_3_error_rate': 0.225, 'col_5_error_rate': 0.1591, 'col_6_error_rate': 0.6154, 'col_7_error_rate': 0.122, 'col_8_error_rate': 0.1111, 'col_9_error_rate': 0.119, 'col_13_error_rate': 0.0889, 'col_14_error_rate': 0.2381, 'total_error_rate': 0.2104, 'clf_aucroc': 0.8471}\n"
     ]
    },
    {
     "name": "stderr",
     "output_type": "stream",
     "text": [
      "100%|██████████| 10/10 [00:05<00:00,  1.76it/s]\n",
      "  0%|          | 0/10 [00:00<?, ?it/s]"
     ]
    },
    {
     "name": "stdout",
     "output_type": "stream",
     "text": [
      "{'nrmse': 0.446, 'col_1_error_rate': 0.3889, 'col_3_error_rate': 0.2955, 'col_5_error_rate': 0.186, 'col_6_error_rate': 0.6818, 'col_7_error_rate': 0.2857, 'col_8_error_rate': 0.0769, 'col_9_error_rate': 0.0789, 'col_13_error_rate': 0.0238, 'col_14_error_rate': 0.0556, 'total_error_rate': 0.2277, 'clf_aucroc': 0.8923}\n"
     ]
    },
    {
     "name": "stderr",
     "output_type": "stream",
     "text": [
      "100%|██████████| 10/10 [00:06<00:00,  1.53it/s]\n",
      "  0%|          | 0/10 [00:00<?, ?it/s]"
     ]
    },
    {
     "name": "stdout",
     "output_type": "stream",
     "text": [
      "{'nrmse': 0.6653, 'col_1_error_rate': 0.3409, 'col_3_error_rate': 0.1489, 'col_5_error_rate': 0.102, 'col_6_error_rate': 0.7143, 'col_7_error_rate': 0.1316, 'col_8_error_rate': 0.075, 'col_9_error_rate': 0.1053, 'col_13_error_rate': 0.0227, 'col_14_error_rate': 0.1351, 'total_error_rate': 0.1979, 'clf_aucroc': 0.8761}\n"
     ]
    },
    {
     "name": "stderr",
     "output_type": "stream",
     "text": [
      "100%|██████████| 10/10 [00:06<00:00,  1.61it/s]\n",
      "  0%|          | 0/10 [00:00<?, ?it/s]"
     ]
    },
    {
     "name": "stdout",
     "output_type": "stream",
     "text": [
      "{'nrmse': 0.5914, 'col_1_error_rate': 0.2903, 'col_3_error_rate': 0.25, 'col_5_error_rate': 0.1579, 'col_6_error_rate': 0.6944, 'col_7_error_rate': 0.1765, 'col_8_error_rate': 0.0606, 'col_9_error_rate': 0.0789, 'col_13_error_rate': 0.0698, 'col_14_error_rate': 0.1892, 'total_error_rate': 0.2164, 'clf_aucroc': 0.9158}\n",
      "nrmse 0.5035000000000001 5\n",
      "col_1_error_rate 0.3351 5\n",
      "col_3_error_rate 0.23944000000000001 5\n",
      "col_5_error_rate 0.153 5\n",
      "col_6_error_rate 0.67832 5\n",
      "col_7_error_rate 0.17581999999999998 5\n",
      "col_8_error_rate 0.09716 5\n",
      "col_9_error_rate 0.10754 5\n",
      "col_13_error_rate 0.06712 5\n",
      "col_14_error_rate 0.15360000000000001 5\n",
      "total_error_rate 0.21797999999999998 5\n",
      "clf_aucroc 0.8798200000000002 5\n"
     ]
    },
    {
     "name": "stderr",
     "output_type": "stream",
     "text": [
      "100%|██████████| 10/10 [00:05<00:00,  1.70it/s]\n",
      "  0%|          | 0/10 [00:00<?, ?it/s]"
     ]
    },
    {
     "name": "stdout",
     "output_type": "stream",
     "text": [
      "{'nrmse': 0.4791, 'col_1_error_rate': 0.3134, 'col_3_error_rate': 0.2615, 'col_5_error_rate': 0.236, 'col_6_error_rate': 0.6711, 'col_7_error_rate': 0.2419, 'col_8_error_rate': 0.1, 'col_9_error_rate': 0.1467, 'col_13_error_rate': 0.0563, 'col_14_error_rate': 0.119, 'total_error_rate': 0.2342, 'clf_aucroc': 0.8657}\n"
     ]
    },
    {
     "name": "stderr",
     "output_type": "stream",
     "text": [
      "100%|██████████| 10/10 [00:05<00:00,  1.67it/s]\n",
      "  0%|          | 0/10 [00:00<?, ?it/s]"
     ]
    },
    {
     "name": "stdout",
     "output_type": "stream",
     "text": [
      "{'nrmse': 0.5488, 'col_1_error_rate': 0.3947, 'col_3_error_rate': 0.2987, 'col_5_error_rate': 0.2073, 'col_6_error_rate': 0.6173, 'col_7_error_rate': 0.2105, 'col_8_error_rate': 0.1014, 'col_9_error_rate': 0.0759, 'col_13_error_rate': 0.05, 'col_14_error_rate': 0.1354, 'total_error_rate': 0.2318, 'clf_aucroc': 0.8454}\n"
     ]
    },
    {
     "name": "stderr",
     "output_type": "stream",
     "text": [
      "100%|██████████| 10/10 [00:06<00:00,  1.66it/s]\n",
      "  0%|          | 0/10 [00:00<?, ?it/s]"
     ]
    },
    {
     "name": "stdout",
     "output_type": "stream",
     "text": [
      "{'nrmse': 0.5612, 'col_1_error_rate': 0.4198, 'col_3_error_rate': 0.284, 'col_5_error_rate': 0.25, 'col_6_error_rate': 0.6026, 'col_7_error_rate': 0.1096, 'col_8_error_rate': 0.0864, 'col_9_error_rate': 0.1169, 'col_13_error_rate': 0.0909, 'col_14_error_rate': 0.1728, 'total_error_rate': 0.236, 'clf_aucroc': 0.8913}\n"
     ]
    },
    {
     "name": "stderr",
     "output_type": "stream",
     "text": [
      "100%|██████████| 10/10 [00:05<00:00,  1.69it/s]\n",
      "  0%|          | 0/10 [00:00<?, ?it/s]"
     ]
    },
    {
     "name": "stdout",
     "output_type": "stream",
     "text": [
      "{'nrmse': 0.5473, 'col_1_error_rate': 0.4366, 'col_3_error_rate': 0.1746, 'col_5_error_rate': 0.0897, 'col_6_error_rate': 0.7647, 'col_7_error_rate': 0.1772, 'col_8_error_rate': 0.0694, 'col_9_error_rate': 0.0972, 'col_13_error_rate': 0.0429, 'col_14_error_rate': 0.1566, 'total_error_rate': 0.2318, 'clf_aucroc': 0.8725}\n"
     ]
    },
    {
     "name": "stderr",
     "output_type": "stream",
     "text": [
      "100%|██████████| 10/10 [00:06<00:00,  1.63it/s]\n",
      "  0%|          | 0/10 [00:00<?, ?it/s]"
     ]
    },
    {
     "name": "stdout",
     "output_type": "stream",
     "text": [
      "{'nrmse': 0.5414, 'col_1_error_rate': 0.3721, 'col_3_error_rate': 0.3462, 'col_5_error_rate': 0.2, 'col_6_error_rate': 0.7317, 'col_7_error_rate': 0.2812, 'col_8_error_rate': 0.1067, 'col_9_error_rate': 0.125, 'col_13_error_rate': 0.044, 'col_14_error_rate': 0.1031, 'total_error_rate': 0.2524, 'clf_aucroc': 0.9198}\n",
      "nrmse 0.53556 10\n",
      "col_1_error_rate 0.38732 10\n",
      "col_3_error_rate 0.273 10\n",
      "col_5_error_rate 0.19660000000000002 10\n",
      "col_6_error_rate 0.67748 10\n",
      "col_7_error_rate 0.20407999999999998 10\n",
      "col_8_error_rate 0.09278000000000002 10\n",
      "col_9_error_rate 0.11234000000000002 10\n",
      "col_13_error_rate 0.056819999999999996 10\n",
      "col_14_error_rate 0.13738 10\n",
      "total_error_rate 0.23723999999999998 10\n",
      "clf_aucroc 0.87894 10\n"
     ]
    },
    {
     "name": "stderr",
     "output_type": "stream",
     "text": [
      "100%|██████████| 10/10 [00:06<00:00,  1.60it/s]\n",
      "  0%|          | 0/10 [00:00<?, ?it/s]"
     ]
    },
    {
     "name": "stdout",
     "output_type": "stream",
     "text": [
      "{'nrmse': 0.4804, 'col_1_error_rate': 0.3871, 'col_3_error_rate': 0.2542, 'col_5_error_rate': 0.1368, 'col_6_error_rate': 0.7222, 'col_7_error_rate': 0.2302, 'col_8_error_rate': 0.0635, 'col_9_error_rate': 0.1333, 'col_13_error_rate': 0.0833, 'col_14_error_rate': 0.1527, 'total_error_rate': 0.2434, 'clf_aucroc': 0.8802}\n"
     ]
    },
    {
     "name": "stderr",
     "output_type": "stream",
     "text": [
      "100%|██████████| 10/10 [00:06<00:00,  1.65it/s]\n",
      "  0%|          | 0/10 [00:00<?, ?it/s]"
     ]
    },
    {
     "name": "stdout",
     "output_type": "stream",
     "text": [
      "{'nrmse': 0.5409, 'col_1_error_rate': 0.3967, 'col_3_error_rate': 0.2381, 'col_5_error_rate': 0.223, 'col_6_error_rate': 0.696, 'col_7_error_rate': 0.2381, 'col_8_error_rate': 0.1136, 'col_9_error_rate': 0.1026, 'col_13_error_rate': 0.0902, 'col_14_error_rate': 0.1496, 'total_error_rate': 0.2482, 'clf_aucroc': 0.8483}\n"
     ]
    },
    {
     "name": "stderr",
     "output_type": "stream",
     "text": [
      "100%|██████████| 10/10 [00:05<00:00,  1.67it/s]\n",
      "  0%|          | 0/10 [00:00<?, ?it/s]"
     ]
    },
    {
     "name": "stdout",
     "output_type": "stream",
     "text": [
      "{'nrmse': 0.5567, 'col_1_error_rate': 0.3243, 'col_3_error_rate': 0.3051, 'col_5_error_rate': 0.2645, 'col_6_error_rate': 0.7803, 'col_7_error_rate': 0.1261, 'col_8_error_rate': 0.073, 'col_9_error_rate': 0.1417, 'col_13_error_rate': 0.0918, 'col_14_error_rate': 0.2, 'total_error_rate': 0.2627, 'clf_aucroc': 0.8936}\n"
     ]
    },
    {
     "name": "stderr",
     "output_type": "stream",
     "text": [
      "100%|██████████| 10/10 [00:06<00:00,  1.66it/s]\n",
      "  0%|          | 0/10 [00:00<?, ?it/s]"
     ]
    },
    {
     "name": "stdout",
     "output_type": "stream",
     "text": [
      "{'nrmse': 0.559, 'col_1_error_rate': 0.3675, 'col_3_error_rate': 0.232, 'col_5_error_rate': 0.1949, 'col_6_error_rate': 0.7059, 'col_7_error_rate': 0.1709, 'col_8_error_rate': 0.0815, 'col_9_error_rate': 0.0806, 'col_13_error_rate': 0.0916, 'col_14_error_rate': 0.1909, 'total_error_rate': 0.2308, 'clf_aucroc': 0.8764}\n"
     ]
    },
    {
     "name": "stderr",
     "output_type": "stream",
     "text": [
      "100%|██████████| 10/10 [00:05<00:00,  1.69it/s]\n",
      "  0%|          | 0/10 [00:00<?, ?it/s]"
     ]
    },
    {
     "name": "stdout",
     "output_type": "stream",
     "text": [
      "{'nrmse': 0.5282, 'col_1_error_rate': 0.3307, 'col_3_error_rate': 0.2788, 'col_5_error_rate': 0.2808, 'col_6_error_rate': 0.7133, 'col_7_error_rate': 0.1681, 'col_8_error_rate': 0.0926, 'col_9_error_rate': 0.1575, 'col_13_error_rate': 0.1008, 'col_14_error_rate': 0.1789, 'total_error_rate': 0.267, 'clf_aucroc': 0.9159}\n",
      "nrmse 0.53304 15\n",
      "col_1_error_rate 0.36126 15\n",
      "col_3_error_rate 0.26164 15\n",
      "col_5_error_rate 0.22000000000000003 15\n",
      "col_6_error_rate 0.7235400000000001 15\n",
      "col_7_error_rate 0.18668 15\n",
      "col_8_error_rate 0.08484 15\n",
      "col_9_error_rate 0.12314 15\n",
      "col_13_error_rate 0.09154 15\n",
      "col_14_error_rate 0.17441999999999996 15\n",
      "total_error_rate 0.25042 15\n",
      "clf_aucroc 0.8828799999999999 15\n"
     ]
    },
    {
     "name": "stderr",
     "output_type": "stream",
     "text": [
      "100%|██████████| 10/10 [00:06<00:00,  1.65it/s]\n",
      "  0%|          | 0/10 [00:00<?, ?it/s]"
     ]
    },
    {
     "name": "stdout",
     "output_type": "stream",
     "text": [
      "{'nrmse': 0.4441, 'col_1_error_rate': 0.3274, 'col_3_error_rate': 0.3371, 'col_5_error_rate': 0.2391, 'col_6_error_rate': 0.6839, 'col_7_error_rate': 0.3646, 'col_8_error_rate': 0.0899, 'col_9_error_rate': 0.125, 'col_13_error_rate': 0.044, 'col_14_error_rate': 0.1786, 'total_error_rate': 0.2623, 'clf_aucroc': 0.8677}\n"
     ]
    },
    {
     "name": "stderr",
     "output_type": "stream",
     "text": [
      "100%|██████████| 10/10 [00:06<00:00,  1.66it/s]\n",
      "  0%|          | 0/10 [00:00<?, ?it/s]"
     ]
    },
    {
     "name": "stdout",
     "output_type": "stream",
     "text": [
      "{'nrmse': 0.51, 'col_1_error_rate': 0.3976, 'col_3_error_rate': 0.2878, 'col_5_error_rate': 0.1677, 'col_6_error_rate': 0.7037, 'col_7_error_rate': 0.1582, 'col_8_error_rate': 0.0867, 'col_9_error_rate': 0.1161, 'col_13_error_rate': 0.0649, 'col_14_error_rate': 0.1635, 'total_error_rate': 0.2379, 'clf_aucroc': 0.8389}\n"
     ]
    },
    {
     "name": "stderr",
     "output_type": "stream",
     "text": [
      "100%|██████████| 10/10 [00:06<00:00,  1.52it/s]\n",
      "  0%|          | 0/10 [00:00<?, ?it/s]"
     ]
    },
    {
     "name": "stdout",
     "output_type": "stream",
     "text": [
      "{'nrmse': 0.4786, 'col_1_error_rate': 0.4593, 'col_3_error_rate': 0.284, 'col_5_error_rate': 0.2515, 'col_6_error_rate': 0.7285, 'col_7_error_rate': 0.195, 'col_8_error_rate': 0.0828, 'col_9_error_rate': 0.1623, 'col_13_error_rate': 0.0629, 'col_14_error_rate': 0.1701, 'total_error_rate': 0.2668, 'clf_aucroc': 0.8799}\n"
     ]
    },
    {
     "name": "stderr",
     "output_type": "stream",
     "text": [
      "100%|██████████| 10/10 [00:06<00:00,  1.64it/s]\n",
      "  0%|          | 0/10 [00:00<?, ?it/s]"
     ]
    },
    {
     "name": "stdout",
     "output_type": "stream",
     "text": [
      "{'nrmse': 0.6205, 'col_1_error_rate': 0.3924, 'col_3_error_rate': 0.303, 'col_5_error_rate': 0.2516, 'col_6_error_rate': 0.8194, 'col_7_error_rate': 0.3758, 'col_8_error_rate': 0.0838, 'col_9_error_rate': 0.1366, 'col_13_error_rate': 0.0839, 'col_14_error_rate': 0.1908, 'total_error_rate': 0.2918, 'clf_aucroc': 0.8684}\n"
     ]
    },
    {
     "name": "stderr",
     "output_type": "stream",
     "text": [
      "100%|██████████| 10/10 [00:06<00:00,  1.56it/s]\n",
      "  0%|          | 0/10 [00:00<?, ?it/s]"
     ]
    },
    {
     "name": "stdout",
     "output_type": "stream",
     "text": [
      "{'nrmse': 0.5677, 'col_1_error_rate': 0.3913, 'col_3_error_rate': 0.3476, 'col_5_error_rate': 0.2603, 'col_6_error_rate': 0.7748, 'col_7_error_rate': 0.2857, 'col_8_error_rate': 0.0889, 'col_9_error_rate': 0.1776, 'col_13_error_rate': 0.0651, 'col_14_error_rate': 0.1325, 'total_error_rate': 0.2736, 'clf_aucroc': 0.9103}\n",
      "nrmse 0.5241800000000001 20\n",
      "col_1_error_rate 0.39360000000000006 20\n",
      "col_3_error_rate 0.31189999999999996 20\n",
      "col_5_error_rate 0.23403999999999997 20\n",
      "col_6_error_rate 0.7420599999999999 20\n",
      "col_7_error_rate 0.27586 20\n",
      "col_8_error_rate 0.08641999999999998 20\n",
      "col_9_error_rate 0.14352 20\n",
      "col_13_error_rate 0.06416000000000001 20\n",
      "col_14_error_rate 0.16709999999999997 20\n",
      "total_error_rate 0.26648 20\n",
      "clf_aucroc 0.8730399999999999 20\n",
      "Data Size: (1000, 17)\n"
     ]
    },
    {
     "name": "stderr",
     "output_type": "stream",
     "text": [
      "100%|██████████| 10/10 [00:06<00:00,  1.44it/s]\n"
     ]
    },
    {
     "ename": "ValueError",
     "evalue": "Only one class present in y_true. ROC AUC score is not defined in that case.",
     "output_type": "error",
     "traceback": [
      "\u001b[0;31m---------------------------------------------------------------------------\u001b[0m",
      "\u001b[0;31mValueError\u001b[0m                                Traceback (most recent call last)",
      "\u001b[0;32m<ipython-input-38-482cbadf83cb>\u001b[0m in \u001b[0;36m<module>\u001b[0;34m\u001b[0m\n\u001b[1;32m      5\u001b[0m \u001b[0;34m\u001b[0m\u001b[0m\n\u001b[1;32m      6\u001b[0m \u001b[0;32mfor\u001b[0m \u001b[0mdata_name\u001b[0m \u001b[0;32min\u001b[0m \u001b[0mdata_name_lst\u001b[0m\u001b[0;34m:\u001b[0m\u001b[0;34m\u001b[0m\u001b[0;34m\u001b[0m\u001b[0m\n\u001b[0;32m----> 7\u001b[0;31m     \u001b[0mresults\u001b[0m \u001b[0;34m=\u001b[0m \u001b[0mexperiment_run\u001b[0m\u001b[0;34m(\u001b[0m\u001b[0mdata_name\u001b[0m\u001b[0;34m,\u001b[0m \u001b[0mconfig\u001b[0m\u001b[0;34m,\u001b[0m \u001b[0mtest\u001b[0m\u001b[0;34m=\u001b[0m\u001b[0;32mTrue\u001b[0m\u001b[0;34m)\u001b[0m\u001b[0;34m\u001b[0m\u001b[0;34m\u001b[0m\u001b[0m\n\u001b[0m\u001b[1;32m      8\u001b[0m     \u001b[0mresults\u001b[0m\u001b[0;34m[\u001b[0m\u001b[0;34m'config'\u001b[0m\u001b[0;34m]\u001b[0m \u001b[0;34m=\u001b[0m \u001b[0mconfig\u001b[0m\u001b[0;34m\u001b[0m\u001b[0;34m\u001b[0m\u001b[0m\n\u001b[1;32m      9\u001b[0m     \u001b[0mresults\u001b[0m\u001b[0;34m[\u001b[0m\u001b[0;34m'dataset'\u001b[0m\u001b[0;34m]\u001b[0m \u001b[0;34m=\u001b[0m \u001b[0mdata_name\u001b[0m\u001b[0;34m\u001b[0m\u001b[0;34m\u001b[0m\u001b[0m\n",
      "\u001b[0;32m<ipython-input-19-58edbcdc4cb8>\u001b[0m in \u001b[0;36mexperiment_run\u001b[0;34m(data_name, config, test)\u001b[0m\n\u001b[1;32m     49\u001b[0m                     \u001b[0mtest_array\u001b[0m\u001b[0;34m=\u001b[0m\u001b[0mX_test\u001b[0m\u001b[0;34m,\u001b[0m\u001b[0;34m\u001b[0m\u001b[0;34m\u001b[0m\u001b[0m\n\u001b[1;32m     50\u001b[0m                     \u001b[0mnum_vars\u001b[0m\u001b[0;34m=\u001b[0m\u001b[0mnum_vars\u001b[0m\u001b[0;34m,\u001b[0m\u001b[0;34m\u001b[0m\u001b[0;34m\u001b[0m\u001b[0m\n\u001b[0;32m---> 51\u001b[0;31m                     cat_vars=cat_vars)\n\u001b[0m\u001b[1;32m     52\u001b[0m \u001b[0;34m\u001b[0m\u001b[0m\n\u001b[1;32m     53\u001b[0m             \u001b[0mmetric\u001b[0m\u001b[0;34m[\u001b[0m\u001b[0;34m'clf_aucroc'\u001b[0m\u001b[0;34m]\u001b[0m \u001b[0;34m=\u001b[0m \u001b[0mround\u001b[0m\u001b[0;34m(\u001b[0m\u001b[0mscore\u001b[0m\u001b[0;34m,\u001b[0m \u001b[0;36m4\u001b[0m\u001b[0;34m)\u001b[0m\u001b[0;34m\u001b[0m\u001b[0;34m\u001b[0m\u001b[0m\n",
      "\u001b[0;32m~/WorkSpace/dmlab/paper/졸업논문/experiments/utils.py\u001b[0m in \u001b[0;36mex_classify\u001b[0;34m(data_name, train_array, test_array, num_vars, cat_vars)\u001b[0m\n\u001b[1;32m    149\u001b[0m     \u001b[0mcat_vars\u001b[0m \u001b[0;34m=\u001b[0m \u001b[0mlist\u001b[0m\u001b[0;34m(\u001b[0m\u001b[0mset\u001b[0m\u001b[0;34m(\u001b[0m\u001b[0mcat_vars\u001b[0m\u001b[0;34m)\u001b[0m \u001b[0;34m-\u001b[0m \u001b[0;34m{\u001b[0m\u001b[0mlabel_idx\u001b[0m\u001b[0;34m}\u001b[0m\u001b[0;34m)\u001b[0m\u001b[0;34m\u001b[0m\u001b[0;34m\u001b[0m\u001b[0m\n\u001b[1;32m    150\u001b[0m     \u001b[0mX\u001b[0m \u001b[0;34m=\u001b[0m \u001b[0mlist\u001b[0m\u001b[0;34m(\u001b[0m\u001b[0;34m)\u001b[0m\u001b[0;34m\u001b[0m\u001b[0;34m\u001b[0m\u001b[0m\n\u001b[0;32m--> 151\u001b[0;31m     X.append(StandardScaler().fit_transform(\n\u001b[0m\u001b[1;32m    152\u001b[0m         all_features[:, num_vars].astype('float')))\n\u001b[1;32m    153\u001b[0m     \u001b[0;32mif\u001b[0m \u001b[0mcat_vars\u001b[0m\u001b[0;34m:\u001b[0m\u001b[0;34m\u001b[0m\u001b[0;34m\u001b[0m\u001b[0m\n",
      "\u001b[0;32m~/opt/anaconda3/lib/python3.7/site-packages/sklearn/utils/validation.py\u001b[0m in \u001b[0;36minner_f\u001b[0;34m(*args, **kwargs)\u001b[0m\n\u001b[1;32m     70\u001b[0m                           FutureWarning)\n\u001b[1;32m     71\u001b[0m         \u001b[0mkwargs\u001b[0m\u001b[0;34m.\u001b[0m\u001b[0mupdate\u001b[0m\u001b[0;34m(\u001b[0m\u001b[0;34m{\u001b[0m\u001b[0mk\u001b[0m\u001b[0;34m:\u001b[0m \u001b[0marg\u001b[0m \u001b[0;32mfor\u001b[0m \u001b[0mk\u001b[0m\u001b[0;34m,\u001b[0m \u001b[0marg\u001b[0m \u001b[0;32min\u001b[0m \u001b[0mzip\u001b[0m\u001b[0;34m(\u001b[0m\u001b[0msig\u001b[0m\u001b[0;34m.\u001b[0m\u001b[0mparameters\u001b[0m\u001b[0;34m,\u001b[0m \u001b[0margs\u001b[0m\u001b[0;34m)\u001b[0m\u001b[0;34m}\u001b[0m\u001b[0;34m)\u001b[0m\u001b[0;34m\u001b[0m\u001b[0;34m\u001b[0m\u001b[0m\n\u001b[0;32m---> 72\u001b[0;31m         \u001b[0;32mreturn\u001b[0m \u001b[0mf\u001b[0m\u001b[0;34m(\u001b[0m\u001b[0;34m**\u001b[0m\u001b[0mkwargs\u001b[0m\u001b[0;34m)\u001b[0m\u001b[0;34m\u001b[0m\u001b[0;34m\u001b[0m\u001b[0m\n\u001b[0m\u001b[1;32m     73\u001b[0m     \u001b[0;32mreturn\u001b[0m \u001b[0minner_f\u001b[0m\u001b[0;34m\u001b[0m\u001b[0;34m\u001b[0m\u001b[0m\n\u001b[1;32m     74\u001b[0m \u001b[0;34m\u001b[0m\u001b[0m\n",
      "\u001b[0;32m~/opt/anaconda3/lib/python3.7/site-packages/sklearn/metrics/_ranking.py\u001b[0m in \u001b[0;36mroc_auc_score\u001b[0;34m(y_true, y_score, average, sample_weight, max_fpr, multi_class, labels)\u001b[0m\n\u001b[1;32m    391\u001b[0m                                              max_fpr=max_fpr),\n\u001b[1;32m    392\u001b[0m                                      \u001b[0my_true\u001b[0m\u001b[0;34m,\u001b[0m \u001b[0my_score\u001b[0m\u001b[0;34m,\u001b[0m \u001b[0maverage\u001b[0m\u001b[0;34m,\u001b[0m\u001b[0;34m\u001b[0m\u001b[0;34m\u001b[0m\u001b[0m\n\u001b[0;32m--> 393\u001b[0;31m                                      sample_weight=sample_weight)\n\u001b[0m\u001b[1;32m    394\u001b[0m     \u001b[0;32melse\u001b[0m\u001b[0;34m:\u001b[0m  \u001b[0;31m# multilabel-indicator\u001b[0m\u001b[0;34m\u001b[0m\u001b[0;34m\u001b[0m\u001b[0m\n\u001b[1;32m    395\u001b[0m         return _average_binary_score(partial(_binary_roc_auc_score,\n",
      "\u001b[0;32m~/opt/anaconda3/lib/python3.7/site-packages/sklearn/metrics/_base.py\u001b[0m in \u001b[0;36m_average_binary_score\u001b[0;34m(binary_metric, y_true, y_score, average, sample_weight)\u001b[0m\n\u001b[1;32m     75\u001b[0m \u001b[0;34m\u001b[0m\u001b[0m\n\u001b[1;32m     76\u001b[0m     \u001b[0;32mif\u001b[0m \u001b[0my_type\u001b[0m \u001b[0;34m==\u001b[0m \u001b[0;34m\"binary\"\u001b[0m\u001b[0;34m:\u001b[0m\u001b[0;34m\u001b[0m\u001b[0;34m\u001b[0m\u001b[0m\n\u001b[0;32m---> 77\u001b[0;31m         \u001b[0;32mreturn\u001b[0m \u001b[0mbinary_metric\u001b[0m\u001b[0;34m(\u001b[0m\u001b[0my_true\u001b[0m\u001b[0;34m,\u001b[0m \u001b[0my_score\u001b[0m\u001b[0;34m,\u001b[0m \u001b[0msample_weight\u001b[0m\u001b[0;34m=\u001b[0m\u001b[0msample_weight\u001b[0m\u001b[0;34m)\u001b[0m\u001b[0;34m\u001b[0m\u001b[0;34m\u001b[0m\u001b[0m\n\u001b[0m\u001b[1;32m     78\u001b[0m \u001b[0;34m\u001b[0m\u001b[0m\n\u001b[1;32m     79\u001b[0m     \u001b[0mcheck_consistent_length\u001b[0m\u001b[0;34m(\u001b[0m\u001b[0my_true\u001b[0m\u001b[0;34m,\u001b[0m \u001b[0my_score\u001b[0m\u001b[0;34m,\u001b[0m \u001b[0msample_weight\u001b[0m\u001b[0;34m)\u001b[0m\u001b[0;34m\u001b[0m\u001b[0;34m\u001b[0m\u001b[0m\n",
      "\u001b[0;32m~/opt/anaconda3/lib/python3.7/site-packages/sklearn/metrics/_ranking.py\u001b[0m in \u001b[0;36m_binary_roc_auc_score\u001b[0;34m(y_true, y_score, sample_weight, max_fpr)\u001b[0m\n\u001b[1;32m    221\u001b[0m     \u001b[0;34m\"\"\"Binary roc auc score\"\"\"\u001b[0m\u001b[0;34m\u001b[0m\u001b[0;34m\u001b[0m\u001b[0m\n\u001b[1;32m    222\u001b[0m     \u001b[0;32mif\u001b[0m \u001b[0mlen\u001b[0m\u001b[0;34m(\u001b[0m\u001b[0mnp\u001b[0m\u001b[0;34m.\u001b[0m\u001b[0munique\u001b[0m\u001b[0;34m(\u001b[0m\u001b[0my_true\u001b[0m\u001b[0;34m)\u001b[0m\u001b[0;34m)\u001b[0m \u001b[0;34m!=\u001b[0m \u001b[0;36m2\u001b[0m\u001b[0;34m:\u001b[0m\u001b[0;34m\u001b[0m\u001b[0;34m\u001b[0m\u001b[0m\n\u001b[0;32m--> 223\u001b[0;31m         raise ValueError(\"Only one class present in y_true. ROC AUC score \"\n\u001b[0m\u001b[1;32m    224\u001b[0m                          \"is not defined in that case.\")\n\u001b[1;32m    225\u001b[0m \u001b[0;34m\u001b[0m\u001b[0m\n",
      "\u001b[0;31mValueError\u001b[0m: Only one class present in y_true. ROC AUC score is not defined in that case."
     ]
    }
   ],
   "source": [
    "data_name_lst = ['adult', 'bank', 'crime']\n",
    "\n",
    "result_dir = './results'\n",
    "os.makedirs(result_dir)\n",
    "\n",
    "for data_name in data_name_lst:\n",
    "    results = experiment_run(data_name, config, test=True)\n",
    "    results['config'] = config\n",
    "    results['dataset'] = data_name\n",
    "    result_path = os.path.join(result_dir, '{}.json'.format(data_name))\n",
    "    write_json(results, result_path)"
   ]
  },
  {
   "cell_type": "code",
   "execution_count": 23,
   "metadata": {},
   "outputs": [],
   "source": [
    "config = {\n",
    "    'model': 'MissForest'\n",
    "    }"
   ]
  },
  {
   "cell_type": "code",
   "execution_count": 24,
   "metadata": {},
   "outputs": [
    {
     "name": "stderr",
     "output_type": "stream",
     "text": [
      "b'Skipping line 1513591: expected 23 fields, saw 24\\n'\n"
     ]
    },
    {
     "name": "stdout",
     "output_type": "stream",
     "text": [
      "Data Size: (1000, 12)\n",
      "Iteration: 0\n",
      "Iteration: 1\n",
      "Iteration: 2\n",
      "Iteration: 3\n",
      "Iteration: 4\n",
      "Iteration: 5\n",
      "Iteration: 6\n",
      "Iteration: 7\n",
      "Iteration: 8\n",
      "Iteration: 9\n",
      "{'nrmse': 0.0058, 'col_0_error_rate': 0.175, 'col_1_error_rate': 0.1053, 'col_2_error_rate': 0.3455, 'col_3_error_rate': 0.0, 'col_4_error_rate': 0.0, 'col_5_error_rate': 0.0952, 'col_6_error_rate': 0.0, 'col_7_error_rate': 0.069, 'total_error_rate': 0.1169, 'clf_aucroc': 0.8674}\n",
      "Iteration: 0\n",
      "Iteration: 1\n",
      "Iteration: 2\n",
      "Iteration: 3\n",
      "Iteration: 4\n",
      "Iteration: 5\n",
      "Iteration: 6\n",
      "Iteration: 7\n",
      "{'nrmse': 0.0002, 'col_0_error_rate': 0.2424, 'col_1_error_rate': 0.075, 'col_2_error_rate': 0.1667, 'col_3_error_rate': 0.1471, 'col_4_error_rate': 0.0541, 'col_5_error_rate': 0.175, 'col_6_error_rate': 0.15, 'col_7_error_rate': 0.1212, 'total_error_rate': 0.1399, 'clf_aucroc': 0.8879}\n",
      "Iteration: 0\n",
      "Iteration: 1\n",
      "Iteration: 2\n",
      "Iteration: 3\n",
      "Iteration: 4\n",
      "Iteration: 5\n",
      "{'nrmse': 0.0032, 'col_0_error_rate': 0.1957, 'col_1_error_rate': 0.0811, 'col_2_error_rate': 0.225, 'col_3_error_rate': 0.08, 'col_4_error_rate': 0.0312, 'col_5_error_rate': 0.1875, 'col_6_error_rate': 0.0204, 'col_7_error_rate': 0.0488, 'total_error_rate': 0.107, 'clf_aucroc': 0.8694}\n",
      "Iteration: 0\n",
      "Iteration: 1\n",
      "Iteration: 2\n",
      "Iteration: 3\n",
      "Iteration: 4\n",
      "Iteration: 5\n",
      "Iteration: 6\n",
      "Iteration: 7\n",
      "Iteration: 8\n",
      "{'nrmse': 0.0026, 'col_0_error_rate': 0.1481, 'col_1_error_rate': 0.0571, 'col_2_error_rate': 0.1304, 'col_3_error_rate': 0.1522, 'col_4_error_rate': 0.0, 'col_5_error_rate': 0.3143, 'col_6_error_rate': 0.1463, 'col_7_error_rate': 0.075, 'total_error_rate': 0.1283, 'clf_aucroc': 0.8971}\n",
      "Iteration: 0\n",
      "Iteration: 1\n",
      "Iteration: 2\n",
      "Iteration: 3\n",
      "Iteration: 4\n",
      "Iteration: 5\n",
      "Iteration: 6\n",
      "{'nrmse': 0.0053, 'col_0_error_rate': 0.1429, 'col_1_error_rate': 0.0408, 'col_2_error_rate': 0.2093, 'col_3_error_rate': 0.0741, 'col_4_error_rate': 0.0263, 'col_5_error_rate': 0.1136, 'col_6_error_rate': 0.125, 'col_7_error_rate': 0.0465, 'total_error_rate': 0.0972, 'clf_aucroc': 0.8259}\n",
      "nrmse 0.0034200000000000003 5\n",
      "col_0_error_rate 0.18082 5\n",
      "col_1_error_rate 0.07186000000000001 5\n",
      "col_2_error_rate 0.21538 5\n",
      "col_3_error_rate 0.09068000000000001 5\n",
      "col_4_error_rate 0.02232 5\n",
      "col_5_error_rate 0.17712 5\n",
      "col_6_error_rate 0.08834 5\n",
      "col_7_error_rate 0.0721 5\n",
      "total_error_rate 0.11785999999999999 5\n",
      "clf_aucroc 0.86954 5\n",
      "Iteration: 0\n",
      "Iteration: 1\n",
      "Iteration: 2\n",
      "Iteration: 3\n",
      "{'nrmse': 0.0036, 'col_0_error_rate': 0.2895, 'col_1_error_rate': 0.0864, 'col_2_error_rate': 0.3125, 'col_3_error_rate': 0.1341, 'col_4_error_rate': 0.0533, 'col_5_error_rate': 0.1711, 'col_6_error_rate': 0.1026, 'col_7_error_rate': 0.0781, 'total_error_rate': 0.1552, 'clf_aucroc': 0.8791}\n",
      "Iteration: 0\n",
      "Iteration: 1\n",
      "Iteration: 2\n",
      "Iteration: 3\n",
      "Iteration: 4\n",
      "Iteration: 5\n",
      "Iteration: 6\n",
      "Iteration: 7\n",
      "{'nrmse': 0.0042, 'col_0_error_rate': 0.1604, 'col_1_error_rate': 0.0909, 'col_2_error_rate': 0.2537, 'col_3_error_rate': 0.1447, 'col_4_error_rate': 0.0357, 'col_5_error_rate': 0.1899, 'col_6_error_rate': 0.12, 'col_7_error_rate': 0.1077, 'total_error_rate': 0.1367, 'clf_aucroc': 0.8806}\n",
      "Iteration: 0\n",
      "Iteration: 1\n",
      "Iteration: 2\n",
      "Iteration: 3\n",
      "Iteration: 4\n",
      "Iteration: 5\n",
      "Iteration: 6\n",
      "Iteration: 7\n",
      "{'nrmse': 0.0015, 'col_0_error_rate': 0.2911, 'col_1_error_rate': 0.0253, 'col_2_error_rate': 0.2603, 'col_3_error_rate': 0.1333, 'col_4_error_rate': 0.0143, 'col_5_error_rate': 0.1757, 'col_6_error_rate': 0.0952, 'col_7_error_rate': 0.1268, 'total_error_rate': 0.1405, 'clf_aucroc': 0.8597}\n",
      "Iteration: 0\n",
      "Iteration: 1\n",
      "Iteration: 2\n",
      "Iteration: 3\n",
      "Iteration: 4\n",
      "Iteration: 5\n",
      "Iteration: 6\n",
      "{'nrmse': 0.0051, 'col_0_error_rate': 0.2299, 'col_1_error_rate': 0.0625, 'col_2_error_rate': 0.1818, 'col_3_error_rate': 0.0769, 'col_4_error_rate': 0.0769, 'col_5_error_rate': 0.1548, 'col_6_error_rate': 0.0833, 'col_7_error_rate': 0.046, 'total_error_rate': 0.1127, 'clf_aucroc': 0.8984}\n",
      "Iteration: 0\n",
      "Iteration: 1\n",
      "Iteration: 2\n",
      "Iteration: 3\n",
      "Iteration: 4\n",
      "Iteration: 5\n",
      "{'nrmse': 0.0029, 'col_0_error_rate': 0.1923, 'col_1_error_rate': 0.0617, 'col_2_error_rate': 0.1667, 'col_3_error_rate': 0.1087, 'col_4_error_rate': 0.043, 'col_5_error_rate': 0.1279, 'col_6_error_rate': 0.1733, 'col_7_error_rate': 0.0769, 'total_error_rate': 0.1153, 'clf_aucroc': 0.8283}\n",
      "nrmse 0.00346 10\n",
      "col_0_error_rate 0.23264 10\n",
      "col_1_error_rate 0.06536 10\n",
      "col_2_error_rate 0.23500000000000001 10\n",
      "col_3_error_rate 0.11954000000000001 10\n",
      "col_4_error_rate 0.04464 10\n",
      "col_5_error_rate 0.16388 10\n",
      "col_6_error_rate 0.11488000000000001 10\n",
      "col_7_error_rate 0.0871 10\n",
      "total_error_rate 0.13208 10\n",
      "clf_aucroc 0.86922 10\n",
      "Iteration: 0\n",
      "Iteration: 1\n",
      "Iteration: 2\n",
      "Iteration: 3\n",
      "Iteration: 4\n",
      "Iteration: 5\n",
      "Iteration: 6\n",
      "Iteration: 7\n",
      "Iteration: 8\n",
      "Iteration: 9\n",
      "{'nrmse': 0.0063, 'col_0_error_rate': 0.229, 'col_1_error_rate': 0.1301, 'col_2_error_rate': 0.1947, 'col_3_error_rate': 0.0992, 'col_4_error_rate': 0.1441, 'col_5_error_rate': 0.2074, 'col_6_error_rate': 0.1532, 'col_7_error_rate': 0.0909, 'total_error_rate': 0.1565, 'clf_aucroc': 0.8794}\n",
      "Iteration: 0\n",
      "Iteration: 1\n",
      "Iteration: 2\n",
      "Iteration: 3\n",
      "Iteration: 4\n",
      "Iteration: 5\n",
      "Iteration: 6\n",
      "Iteration: 7\n",
      "Iteration: 8\n",
      "Iteration: 9\n",
      "{'nrmse': 0.0046, 'col_0_error_rate': 0.2212, 'col_1_error_rate': 0.0818, 'col_2_error_rate': 0.2593, 'col_3_error_rate': 0.1485, 'col_4_error_rate': 0.0504, 'col_5_error_rate': 0.2149, 'col_6_error_rate': 0.1908, 'col_7_error_rate': 0.0714, 'total_error_rate': 0.1545, 'clf_aucroc': 0.8856}\n",
      "Iteration: 0\n",
      "Iteration: 1\n",
      "Iteration: 2\n",
      "Iteration: 3\n",
      "Iteration: 4\n",
      "Iteration: 5\n",
      "{'nrmse': 0.0035, 'col_0_error_rate': 0.2689, 'col_1_error_rate': 0.0827, 'col_2_error_rate': 0.2576, 'col_3_error_rate': 0.144, 'col_4_error_rate': 0.0813, 'col_5_error_rate': 0.2437, 'col_6_error_rate': 0.1969, 'col_7_error_rate': 0.1345, 'total_error_rate': 0.1755, 'clf_aucroc': 0.8728}\n",
      "Iteration: 0\n",
      "Iteration: 1\n",
      "Iteration: 2\n",
      "Iteration: 3\n",
      "Iteration: 4\n",
      "Iteration: 5\n",
      "Iteration: 6\n",
      "Iteration: 7\n",
      "Iteration: 8\n",
      "Iteration: 9\n",
      "{'nrmse': 0.0042, 'col_0_error_rate': 0.2137, 'col_1_error_rate': 0.0985, 'col_2_error_rate': 0.2063, 'col_3_error_rate': 0.0991, 'col_4_error_rate': 0.0818, 'col_5_error_rate': 0.2238, 'col_6_error_rate': 0.1228, 'col_7_error_rate': 0.0526, 'total_error_rate': 0.1406, 'clf_aucroc': 0.8997}\n",
      "Iteration: 0\n",
      "Iteration: 1\n",
      "Iteration: 2\n",
      "Iteration: 3\n",
      "Iteration: 4\n",
      "Iteration: 5\n",
      "Iteration: 6\n",
      "Iteration: 7\n",
      "{'nrmse': 0.0033, 'col_0_error_rate': 0.2593, 'col_1_error_rate': 0.0692, 'col_2_error_rate': 0.1765, 'col_3_error_rate': 0.0926, 'col_4_error_rate': 0.0526, 'col_5_error_rate': 0.2385, 'col_6_error_rate': 0.1504, 'col_7_error_rate': 0.1, 'total_error_rate': 0.1403, 'clf_aucroc': 0.8311}\n",
      "nrmse 0.00438 15\n",
      "col_0_error_rate 0.23842 15\n",
      "col_1_error_rate 0.09246 15\n",
      "col_2_error_rate 0.21888000000000002 15\n",
      "col_3_error_rate 0.11667999999999998 15\n",
      "col_4_error_rate 0.08203999999999999 15\n",
      "col_5_error_rate 0.22566000000000003 15\n",
      "col_6_error_rate 0.16282 15\n",
      "col_7_error_rate 0.08988 15\n",
      "total_error_rate 0.15348 15\n",
      "clf_aucroc 0.8737200000000002 15\n",
      "Iteration: 0\n",
      "Iteration: 1\n",
      "Iteration: 2\n",
      "Iteration: 3\n",
      "Iteration: 4\n",
      "Iteration: 5\n",
      "Iteration: 6\n",
      "Iteration: 7\n",
      "Iteration: 8\n",
      "Iteration: 9\n",
      "{'nrmse': 0.0046, 'col_0_error_rate': 0.2604, 'col_1_error_rate': 0.1013, 'col_2_error_rate': 0.2671, 'col_3_error_rate': 0.1161, 'col_4_error_rate': 0.0581, 'col_5_error_rate': 0.2744, 'col_6_error_rate': 0.1566, 'col_7_error_rate': 0.0714, 'total_error_rate': 0.1644, 'clf_aucroc': 0.8901}\n",
      "Iteration: 0\n",
      "Iteration: 1\n",
      "Iteration: 2\n",
      "Iteration: 3\n",
      "Iteration: 4\n",
      "Iteration: 5\n",
      "Iteration: 6\n",
      "Iteration: 7\n",
      "Iteration: 8\n",
      "{'nrmse': 0.0054, 'col_0_error_rate': 0.2368, 'col_1_error_rate': 0.0823, 'col_2_error_rate': 0.2139, 'col_3_error_rate': 0.1103, 'col_4_error_rate': 0.1059, 'col_5_error_rate': 0.1883, 'col_6_error_rate': 0.1212, 'col_7_error_rate': 0.0822, 'total_error_rate': 0.1441, 'clf_aucroc': 0.8724}\n",
      "Iteration: 0\n",
      "Iteration: 1\n",
      "Iteration: 2\n",
      "Iteration: 3\n",
      "Iteration: 4\n",
      "Iteration: 5\n",
      "Iteration: 6\n",
      "{'nrmse': 0.0049, 'col_0_error_rate': 0.2025, 'col_1_error_rate': 0.0898, 'col_2_error_rate': 0.1988, 'col_3_error_rate': 0.1218, 'col_4_error_rate': 0.0828, 'col_5_error_rate': 0.2192, 'col_6_error_rate': 0.2077, 'col_7_error_rate': 0.0933, 'total_error_rate': 0.1532, 'clf_aucroc': 0.8493}\n",
      "Iteration: 0\n",
      "Iteration: 1\n",
      "Iteration: 2\n",
      "Iteration: 3\n",
      "Iteration: 4\n",
      "{'nrmse': 0.0046, 'col_0_error_rate': 0.2373, 'col_1_error_rate': 0.0952, 'col_2_error_rate': 0.2098, 'col_3_error_rate': 0.1195, 'col_4_error_rate': 0.0575, 'col_5_error_rate': 0.2037, 'col_6_error_rate': 0.1529, 'col_7_error_rate': 0.1448, 'total_error_rate': 0.1518, 'clf_aucroc': 0.9055}\n"
     ]
    },
    {
     "name": "stdout",
     "output_type": "stream",
     "text": [
      "Iteration: 0\n",
      "Iteration: 1\n",
      "Iteration: 2\n",
      "Iteration: 3\n",
      "Iteration: 4\n",
      "Iteration: 5\n",
      "Iteration: 6\n",
      "Iteration: 7\n",
      "{'nrmse': 0.0044, 'col_0_error_rate': 0.3409, 'col_1_error_rate': 0.0741, 'col_2_error_rate': 0.2338, 'col_3_error_rate': 0.1317, 'col_4_error_rate': 0.0823, 'col_5_error_rate': 0.1813, 'col_6_error_rate': 0.1824, 'col_7_error_rate': 0.0955, 'total_error_rate': 0.1613, 'clf_aucroc': 0.8172}\n",
      "nrmse 0.00478 20\n",
      "col_0_error_rate 0.25558000000000003 20\n",
      "col_1_error_rate 0.08854 20\n",
      "col_2_error_rate 0.22468 20\n",
      "col_3_error_rate 0.11988000000000001 20\n",
      "col_4_error_rate 0.07731999999999999 20\n",
      "col_5_error_rate 0.21338 20\n",
      "col_6_error_rate 0.16416 20\n",
      "col_7_error_rate 0.09744000000000001 20\n",
      "total_error_rate 0.15496 20\n",
      "clf_aucroc 0.8669 20\n"
     ]
    },
    {
     "data": {
      "text/plain": [
       "{5: {'nrmse': 0.0034200000000000003,\n",
       "  'col_0_error_rate': 0.18082,\n",
       "  'col_1_error_rate': 0.07186000000000001,\n",
       "  'col_2_error_rate': 0.21538,\n",
       "  'col_3_error_rate': 0.09068000000000001,\n",
       "  'col_4_error_rate': 0.02232,\n",
       "  'col_5_error_rate': 0.17712,\n",
       "  'col_6_error_rate': 0.08834,\n",
       "  'col_7_error_rate': 0.0721,\n",
       "  'total_error_rate': 0.11785999999999999,\n",
       "  'clf_aucroc': 0.86954},\n",
       " 10: {'nrmse': 0.00346,\n",
       "  'col_0_error_rate': 0.23264,\n",
       "  'col_1_error_rate': 0.06536,\n",
       "  'col_2_error_rate': 0.23500000000000001,\n",
       "  'col_3_error_rate': 0.11954000000000001,\n",
       "  'col_4_error_rate': 0.04464,\n",
       "  'col_5_error_rate': 0.16388,\n",
       "  'col_6_error_rate': 0.11488000000000001,\n",
       "  'col_7_error_rate': 0.0871,\n",
       "  'total_error_rate': 0.13208,\n",
       "  'clf_aucroc': 0.86922},\n",
       " 15: {'nrmse': 0.00438,\n",
       "  'col_0_error_rate': 0.23842,\n",
       "  'col_1_error_rate': 0.09246,\n",
       "  'col_2_error_rate': 0.21888000000000002,\n",
       "  'col_3_error_rate': 0.11667999999999998,\n",
       "  'col_4_error_rate': 0.08203999999999999,\n",
       "  'col_5_error_rate': 0.22566000000000003,\n",
       "  'col_6_error_rate': 0.16282,\n",
       "  'col_7_error_rate': 0.08988,\n",
       "  'total_error_rate': 0.15348,\n",
       "  'clf_aucroc': 0.8737200000000002},\n",
       " 20: {'nrmse': 0.00478,\n",
       "  'col_0_error_rate': 0.25558000000000003,\n",
       "  'col_1_error_rate': 0.08854,\n",
       "  'col_2_error_rate': 0.22468,\n",
       "  'col_3_error_rate': 0.11988000000000001,\n",
       "  'col_4_error_rate': 0.07731999999999999,\n",
       "  'col_5_error_rate': 0.21338,\n",
       "  'col_6_error_rate': 0.16416,\n",
       "  'col_7_error_rate': 0.09744000000000001,\n",
       "  'total_error_rate': 0.15496,\n",
       "  'clf_aucroc': 0.8669}}"
      ]
     },
     "execution_count": 24,
     "metadata": {},
     "output_type": "execute_result"
    }
   ],
   "source": [
    "experiment_run('crime', config, test=True)"
   ]
  },
  {
   "cell_type": "code",
   "execution_count": null,
   "metadata": {},
   "outputs": [],
   "source": []
  }
 ],
 "metadata": {
  "kernelspec": {
   "display_name": "Python 3",
   "language": "python",
   "name": "python3"
  },
  "language_info": {
   "codemirror_mode": {
    "name": "ipython",
    "version": 3
   },
   "file_extension": ".py",
   "mimetype": "text/x-python",
   "name": "python",
   "nbconvert_exporter": "python",
   "pygments_lexer": "ipython3",
   "version": "3.7.6"
  }
 },
 "nbformat": 4,
 "nbformat_minor": 4
}
