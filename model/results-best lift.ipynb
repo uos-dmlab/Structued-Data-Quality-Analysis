{
 "cells": [
  {
   "cell_type": "code",
   "execution_count": 1,
   "metadata": {},
   "outputs": [],
   "source": [
    "import numpy as np\n",
    "import matplotlib.pyplot as plt\n",
    "from utils import load_json"
   ]
  },
  {
   "cell_type": "code",
   "execution_count": 2,
   "metadata": {},
   "outputs": [],
   "source": [
    "nrmse = {\n",
    "    'adult': {\n",
    "        'stat': [1.0017, 0.9972, 1.0002, 1.0125],\n",
    "        'mf': [0.8358, 0.8561, 0.8745, 0.9071],\n",
    "        'dsan': [0.7999, 0.8099, 0.8247, 0.8488]\n",
    "    },\n",
    "    'bank': {\n",
    "        'stat': [0.9562, 0.9651, 1.0, 0.9778],\n",
    "        'mf': [0.7703, 0.8164, 0.8586, 0.8783],\n",
    "        'dsan': [0.7580, 0.7860, 0.8282, 0.8226]\n",
    "    },\n",
    "    'online': {\n",
    "        'stat': [1.0012, 0.9836, 0.9875, 0.9947],\n",
    "        'mf': [0.6038, 0.6504, 0.6915, 0.7086],\n",
    "        'dsan': [0.6311, 0.6413, 0.6619, 0.6738]\n",
    "    },\n",
    "    'churn': {\n",
    "        'stat': [0.9949, 1.0052, 0.9966, 1.0014],\n",
    "        'mf': [0.9850, 0.9964, 0.9986, 1.0208],\n",
    "        'dsan': [0.9625, 0.9725, 0.9685, 0.9757]\n",
    "    }    \n",
    "}\n",
    "\n",
    "error = {\n",
    "    'adult': {\n",
    "        'stat': [0.4112, 0.4129, 0.4134, 0.4126],\n",
    "        'mf': [0.2147, 0.2238, 0.2342, 0.2425],\n",
    "        'dsan': [0.2103, 0.2173, 0.2239, 0.2325]\n",
    "    },\n",
    "    'bank': {\n",
    "        'stat': [0.4063, 0.4088, 0.4093, 0.4074],\n",
    "        'mf': [0.246, 0.2558, 0.2674, 0.273],\n",
    "        'dsan': [0.2501, 0.2571, 0.2678, 0.2732]\n",
    "    },\n",
    "    'online': {\n",
    "        'stat': [0.4166, 0.4198, 0.417, 0.4186],\n",
    "        'mf': [0.3387, 0.3473, 0.3539, 0.3604],\n",
    "        'dsan': [0.3366, 0.3465, 0.3498, 0.3569]\n",
    "    },\n",
    "    'churn': {\n",
    "        'stat': [0.4055, 0.406, 0.4008, 0.4047],\n",
    "        'mf': [0.3561, 0.3608, 0.3652, 0.377],\n",
    "        'dsan': [0.3436, 0.3576, 0.3549, 0.3665]\n",
    "    }\n",
    "}\n",
    "\n",
    "auc = {\n",
    "    'adult': {\n",
    "        'comp': .9052,\n",
    "        'stat': [0.9034, .9015, .8978, .8962],\n",
    "        'mf': [.9049, .9049, .9041, .9036],\n",
    "        'dsan': [.9050, .9050, .9047, .9045]\n",
    "    },\n",
    "    'bank': {\n",
    "        'comp': .9030,\n",
    "        'stat': [.9020, .9002, .8989, .8962],\n",
    "        'mf': [.9030, .9028, .9028, .9019],\n",
    "        'dsan': [.9028, .9029, .9029, .9020]\n",
    "    },\n",
    "    'online': {\n",
    "        'comp': 0.8945,\n",
    "        'stat': [0.8889, 0.887, 0.8796, 0.8765],\n",
    "        'mf': [0.8952, 0.8983, 0.898, 0.8993],\n",
    "        'dsan': [0.8951, .8970, .8964, .8984]\n",
    "    },\n",
    "    'churn': {\n",
    "        'comp': 0.8325,\n",
    "        'stat': [0.8324, 0.8327, 0.8308, 0.8317],\n",
    "        'mf': [0.8322, 0.8313, 0.8298, 0.8295],\n",
    "        'dsan': [0.8323, .8320, .8316, .8307]\n",
    "    }\n",
    "}"
   ]
  },
  {
   "cell_type": "code",
   "execution_count": 3,
   "metadata": {},
   "outputs": [],
   "source": [
    "def perform_lift(metric, dataset, comp=0.):\n",
    "    if comp:\n",
    "        dsans = np.mean(metric[dataset]['dsan'])\n",
    "        imp = (comp - dsans) / dsans * 100\n",
    "        print(round(imp, 1), '%')\n",
    "    stats = np.mean(metric[dataset]['stat'])\n",
    "    mfs = np.mean(metric[dataset]['mf'])\n",
    "    dsans = np.mean(metric[dataset]['dsan'])\n",
    "    print(f'in adult {dataset}')\n",
    "    print('comparative to stat')\n",
    "    imp = (stats - dsans) / dsans * 100\n",
    "    print(round(imp, 2), '%')\n",
    "    print('comparative to mf')\n",
    "    imp = (mfs - dsans) / dsans * 100\n",
    "    print(round(imp, 2), '%')\n",
    "    print(f'stat avg: {round(stats, 4)}')\n",
    "    print(f'mf avg: {round(mfs, 4)}')\n",
    "    print(f'dsan avg: {round(dsans, 4)}')"
   ]
  },
  {
   "cell_type": "code",
   "execution_count": 4,
   "metadata": {},
   "outputs": [],
   "source": [
    "def perform_lift2(metric, dataset):\n",
    "    comp = metric[dataset]['comp']\n",
    "    dsans = np.mean(metric[dataset]['dsan'])\n",
    "    imp = (dsans - comp) / comp * 100\n",
    "    print(f'in adult {dataset}')\n",
    "    print('compare to complete')\n",
    "    print(round(imp, 1), '%')\n",
    "    stats = np.mean(metric[dataset]['stat'])\n",
    "    mfs = np.mean(metric[dataset]['mf'])\n",
    "    dsans = np.mean(metric[dataset]['dsan'])\n",
    "    print('comparative to stat')\n",
    "    imp = (dsans - stats) / stats * 100\n",
    "    print(round(imp, 2), '%')\n",
    "    print('comparative to mf')\n",
    "    imp = (dsans - mfs) / mfs * 100\n",
    "    print(round(imp, 2), '%')\n",
    "    print(f'comp: {round(comp, 4)}')\n",
    "    print(f'stat avg: {round(stats, 4)}')\n",
    "    print(f'mf avg: {round(mfs, 4)}')\n",
    "    print(f'dsan avg: {round(dsans, 4)}')"
   ]
  },
  {
   "cell_type": "markdown",
   "metadata": {},
   "source": [
    "### NRMSE Lift"
   ]
  },
  {
   "cell_type": "code",
   "execution_count": 5,
   "metadata": {},
   "outputs": [
    {
     "name": "stdout",
     "output_type": "stream",
     "text": [
      "in adult adult\n",
      "comparative to stat\n",
      "22.18 %\n",
      "comparative to mf\n",
      "5.79 %\n",
      "stat avg: 1.0029\n",
      "mf avg: 0.8684\n",
      "dsan avg: 0.8208\n"
     ]
    }
   ],
   "source": [
    "perform_lift(nrmse, 'adult')"
   ]
  },
  {
   "cell_type": "code",
   "execution_count": 6,
   "metadata": {},
   "outputs": [
    {
     "name": "stdout",
     "output_type": "stream",
     "text": [
      "in adult bank\n",
      "comparative to stat\n",
      "22.05 %\n",
      "comparative to mf\n",
      "4.03 %\n",
      "stat avg: 0.9748\n",
      "mf avg: 0.8309\n",
      "dsan avg: 0.7987\n"
     ]
    }
   ],
   "source": [
    "perform_lift(nrmse, 'bank')"
   ]
  },
  {
   "cell_type": "code",
   "execution_count": 7,
   "metadata": {},
   "outputs": [
    {
     "name": "stdout",
     "output_type": "stream",
     "text": [
      "in adult online\n",
      "comparative to stat\n",
      "52.1 %\n",
      "comparative to mf\n",
      "1.77 %\n",
      "stat avg: 0.9918\n",
      "mf avg: 0.6636\n",
      "dsan avg: 0.652\n"
     ]
    }
   ],
   "source": [
    "perform_lift(nrmse, 'online')"
   ]
  },
  {
   "cell_type": "code",
   "execution_count": 8,
   "metadata": {},
   "outputs": [
    {
     "name": "stdout",
     "output_type": "stream",
     "text": [
      "in adult churn\n",
      "comparative to stat\n",
      "3.07 %\n",
      "comparative to mf\n",
      "3.13 %\n",
      "stat avg: 0.9995\n",
      "mf avg: 1.0002\n",
      "dsan avg: 0.9698\n"
     ]
    }
   ],
   "source": [
    "perform_lift(nrmse, 'churn')"
   ]
  },
  {
   "cell_type": "markdown",
   "metadata": {},
   "source": [
    "### Error Rate Lift"
   ]
  },
  {
   "cell_type": "code",
   "execution_count": 9,
   "metadata": {},
   "outputs": [
    {
     "name": "stdout",
     "output_type": "stream",
     "text": [
      "in adult adult\n",
      "comparative to stat\n",
      "86.66 %\n",
      "comparative to mf\n",
      "3.53 %\n",
      "stat avg: 0.4125\n",
      "mf avg: 0.2288\n",
      "dsan avg: 0.221\n"
     ]
    }
   ],
   "source": [
    "perform_lift(error, 'adult')"
   ]
  },
  {
   "cell_type": "code",
   "execution_count": 10,
   "metadata": {},
   "outputs": [
    {
     "name": "stdout",
     "output_type": "stream",
     "text": [
      "in adult bank\n",
      "comparative to stat\n",
      "55.68 %\n",
      "comparative to mf\n",
      "-0.57 %\n",
      "stat avg: 0.408\n",
      "mf avg: 0.2606\n",
      "dsan avg: 0.262\n"
     ]
    }
   ],
   "source": [
    "perform_lift(error, 'bank')"
   ]
  },
  {
   "cell_type": "code",
   "execution_count": 11,
   "metadata": {},
   "outputs": [
    {
     "name": "stdout",
     "output_type": "stream",
     "text": [
      "in adult online\n",
      "comparative to stat\n",
      "20.31 %\n",
      "comparative to mf\n",
      "0.76 %\n",
      "stat avg: 0.418\n",
      "mf avg: 0.3501\n",
      "dsan avg: 0.3475\n"
     ]
    }
   ],
   "source": [
    "perform_lift(error, 'online')"
   ]
  },
  {
   "cell_type": "code",
   "execution_count": 12,
   "metadata": {},
   "outputs": [
    {
     "name": "stdout",
     "output_type": "stream",
     "text": [
      "in adult churn\n",
      "comparative to stat\n",
      "13.67 %\n",
      "comparative to mf\n",
      "2.57 %\n",
      "stat avg: 0.4043\n",
      "mf avg: 0.3648\n",
      "dsan avg: 0.3556\n"
     ]
    }
   ],
   "source": [
    "perform_lift(error, 'churn')"
   ]
  },
  {
   "cell_type": "markdown",
   "metadata": {},
   "source": [
    "### AUC Lift"
   ]
  },
  {
   "cell_type": "code",
   "execution_count": 13,
   "metadata": {},
   "outputs": [
    {
     "name": "stdout",
     "output_type": "stream",
     "text": [
      "in adult adult\n",
      "compare to complete\n",
      "-0.0 %\n",
      "comparative to stat\n",
      "0.56 %\n",
      "comparative to mf\n",
      "0.05 %\n",
      "comp: 0.9052\n",
      "stat avg: 0.8997\n",
      "mf avg: 0.9044\n",
      "dsan avg: 0.9048\n"
     ]
    }
   ],
   "source": [
    "perform_lift2(auc, 'adult')"
   ]
  },
  {
   "cell_type": "code",
   "execution_count": 14,
   "metadata": {},
   "outputs": [
    {
     "name": "stdout",
     "output_type": "stream",
     "text": [
      "in adult bank\n",
      "compare to complete\n",
      "-0.0 %\n",
      "comparative to stat\n",
      "0.37 %\n",
      "comparative to mf\n",
      "0.0 %\n",
      "comp: 0.903\n",
      "stat avg: 0.8993\n",
      "mf avg: 0.9026\n",
      "dsan avg: 0.9026\n"
     ]
    }
   ],
   "source": [
    "perform_lift2(auc, 'bank')"
   ]
  },
  {
   "cell_type": "code",
   "execution_count": 15,
   "metadata": {},
   "outputs": [
    {
     "name": "stdout",
     "output_type": "stream",
     "text": [
      "in adult online\n",
      "compare to complete\n",
      "0.2 %\n",
      "comparative to stat\n",
      "1.55 %\n",
      "comparative to mf\n",
      "-0.11 %\n",
      "comp: 0.8945\n",
      "stat avg: 0.883\n",
      "mf avg: 0.8977\n",
      "dsan avg: 0.8967\n"
     ]
    }
   ],
   "source": [
    "perform_lift2(auc, 'online')"
   ]
  },
  {
   "cell_type": "code",
   "execution_count": 16,
   "metadata": {},
   "outputs": [
    {
     "name": "stdout",
     "output_type": "stream",
     "text": [
      "in adult churn\n",
      "compare to complete\n",
      "-0.1 %\n",
      "comparative to stat\n",
      "-0.03 %\n",
      "comparative to mf\n",
      "0.11 %\n",
      "comp: 0.8325\n",
      "stat avg: 0.8319\n",
      "mf avg: 0.8307\n",
      "dsan avg: 0.8316\n"
     ]
    }
   ],
   "source": [
    "perform_lift2(auc, 'churn')"
   ]
  },
  {
   "cell_type": "code",
   "execution_count": null,
   "metadata": {},
   "outputs": [],
   "source": []
  }
 ],
 "metadata": {
  "kernelspec": {
   "display_name": "Python 3",
   "language": "python",
   "name": "python3"
  },
  "language_info": {
   "codemirror_mode": {
    "name": "ipython",
    "version": 3
   },
   "file_extension": ".py",
   "mimetype": "text/x-python",
   "name": "python",
   "nbconvert_exporter": "python",
   "pygments_lexer": "ipython3",
   "version": "3.7.6"
  }
 },
 "nbformat": 4,
 "nbformat_minor": 4
}
